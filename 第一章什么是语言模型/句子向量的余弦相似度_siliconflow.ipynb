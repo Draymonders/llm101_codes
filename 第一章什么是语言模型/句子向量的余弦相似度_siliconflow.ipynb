{
 "cells": [
  {
   "cell_type": "markdown",
   "id": "b6b29e62-23b2-42bb-9d33-c01d6cc645ce",
   "metadata": {},
   "source": [
    "代码参考：https://cohere.com/llmu/what-is-similarity-between-sentences \n",
    "\n",
    "改动：\n",
    "* 替换Cohere API，调用[SiliconFlow](https://siliconflow.cn/zh-cn/) API生成句子向量\n",
    "* 增加自己实现余弦相似度的部分\n",
    "* 用自己实现的余弦相似度替换sklearn中的余弦相似度"
   ]
  },
  {
   "cell_type": "code",
   "execution_count": 1,
   "id": "804abb18-3e15-45f7-80dc-69a62ccb351d",
   "metadata": {},
   "outputs": [],
   "source": [
    "import math\n",
    "import requests\n",
    "import json\n",
    "import numpy as np\n",
    "import seaborn as sns\n",
    "from sklearn.metrics.pairwise import cosine_similarity as sk_cosine_similarity  # 调用sklearn计算余弦相似度"
   ]
  },
  {
   "cell_type": "markdown",
   "id": "2b7e2f53-2472-4f68-96e6-3383f7b25294",
   "metadata": {},
   "source": [
    "# 调用模型生成句子向量"
   ]
  },
  {
   "cell_type": "code",
   "execution_count": 2,
   "id": "827ce6b2-0772-4b20-9c1c-5dc7745b1a59",
   "metadata": {},
   "outputs": [],
   "source": [
    "texts = [\"I like to be in my house\", \n",
    "         \"I enjoy staying home\", \n",
    "         \"the isotope 238u decays to 206pb\"]\n",
    "model = \"BAAI/bge-large-en-v1.5\"  # 查看模型信息 https://cloud.siliconflow.cn/models\n",
    "api_key = \"\"  # 填入API密钥"
   ]
  },
  {
   "cell_type": "code",
   "execution_count": 3,
   "id": "024f7fc0-d19c-4693-8bec-13e45e9d5afc",
   "metadata": {},
   "outputs": [],
   "source": [
    "url = \"https://api.siliconflow.cn/v1/embeddings\"\n",
    "\n",
    "payload = {\n",
    "    \"model\": model,  # 配置LLM embedding model\n",
    "    \"input\": texts,\n",
    "    \"encoding_format\": \"float\"\n",
    "}\n",
    "headers = {\n",
    "    \"Authorization\": api_key,  # 添加siliconflow API 密钥，https://cloud.siliconflow.cn/account/ak\n",
    "    \"Content-Type\": \"application/json\"\n",
    "}\n",
    "\n",
    "response = requests.request(\"POST\", url, json=payload, headers=headers)"
   ]
  },
  {
   "cell_type": "code",
   "execution_count": 4,
   "id": "767b4b91-d851-437a-89aa-34a7ce2ab333",
   "metadata": {},
   "outputs": [
    {
     "data": {
      "text/plain": [
       "requests.models.Response"
      ]
     },
     "execution_count": 4,
     "metadata": {},
     "output_type": "execute_result"
    }
   ],
   "source": [
    "type(response)"
   ]
  },
  {
   "cell_type": "code",
   "execution_count": 5,
   "id": "386efb30-90db-48c4-baac-d6c3b9559dea",
   "metadata": {},
   "outputs": [
    {
     "data": {
      "text/plain": [
       "str"
      ]
     },
     "execution_count": 5,
     "metadata": {},
     "output_type": "execute_result"
    }
   ],
   "source": [
    "type(response.text)"
   ]
  },
  {
   "cell_type": "code",
   "execution_count": 6,
   "id": "b12d9dc9-71a3-4fb4-94c3-215cd2800db0",
   "metadata": {},
   "outputs": [],
   "source": [
    "response_embeds = json.loads(response.text)[\"data\"]"
   ]
  },
  {
   "cell_type": "code",
   "execution_count": 7,
   "id": "ac1963ae-81d7-4f1a-a652-b16c3ae3842e",
   "metadata": {},
   "outputs": [],
   "source": [
    "embeddings = [response_embeds[i][\"embedding\"] for i in range(len(texts))]"
   ]
  },
  {
   "cell_type": "code",
   "execution_count": 8,
   "id": "e3e994de-7922-4df1-8a7d-4d9ffbaa05cb",
   "metadata": {},
   "outputs": [],
   "source": [
    "[sentence1, sentence2, sentence3] = embeddings"
   ]
  },
  {
   "cell_type": "code",
   "execution_count": 9,
   "id": "f54a9425-8a59-4254-bee9-35e9735718e3",
   "metadata": {},
   "outputs": [
    {
     "name": "stdout",
     "output_type": "stream",
     "text": [
      "Embedding for sentence 1 [-0.02156916  0.00039248 -0.02974168 ... -0.05719334 -0.03269009\n",
      " -0.01343242]\n",
      "Embedding for sentence 2 [-0.03370305  0.01532354 -0.01720078 ... -0.0558225  -0.01431943\n",
      " -0.02991946]\n",
      "Embedding for sentence 3 [-0.00024108  0.01346142 -0.00220542 ... -0.03132343 -0.0314601\n",
      " -0.0127371 ]\n"
     ]
    }
   ],
   "source": [
    "print(\"Embedding for sentence 1\", np.array(sentence1))\n",
    "print(\"Embedding for sentence 2\", np.array(sentence2))\n",
    "print(\"Embedding for sentence 3\", np.array(sentence3))"
   ]
  },
  {
   "cell_type": "markdown",
   "id": "2de0240f-fe41-4a77-9969-1c35894b974a",
   "metadata": {},
   "source": [
    "# 编程实现现计算余弦相似度的函数"
   ]
  },
  {
   "cell_type": "code",
   "execution_count": null,
   "id": "1744c6ea-1824-49f2-a094-ab83ccfcff41",
   "metadata": {},
   "outputs": [],
   "source": [
    "def cosine_similarity(emb1, emb2):\n",
    "    \"\"\"\n",
    "    计算两个向量的余弦相似度\n",
    "    emb1和emb2类型是list，二者维度相同\n",
    "    比如 emb1=[0.1, 0.2, 0.1]\n",
    "    \"\"\"\n",
    "    # 实现余弦相似度\n",
    "    emb1, emb2 = np.array(emb1), np.array(emb2)\n",
    "    return np.dot(emb1, emb2) / (np.linalg.norm(emb1) * np.linalg.norm(emb2))"
   ]
  },
  {
   "cell_type": "code",
   "execution_count": 11,
   "id": "4d83f7fb-6295-45fd-8b1d-fc52ad50ac8c",
   "metadata": {},
   "outputs": [],
   "source": [
    "epsilon = 1e-9\n",
    "\n",
    "def is_close(a, b, epsilon):\n",
    "    \"\"\"判断两个浮点数是否相等\"\"\"\n",
    "    return math.isclose(a, b, rel_tol=epsilon)"
   ]
  },
  {
   "cell_type": "code",
   "execution_count": 12,
   "id": "9be4fbfe-bf16-47b3-b4d6-5dae4f104af3",
   "metadata": {},
   "outputs": [],
   "source": [
    "def test_answer(A, B, epsilon):\n",
    "    \"\"\"测试数值A和B是否相同(误差范围内)\"\"\"\n",
    "    if is_close(A, B, epsilon):\n",
    "        print(\"Pass\")\n",
    "    else:\n",
    "        print(\"Fail\")"
   ]
  },
  {
   "cell_type": "code",
   "execution_count": 13,
   "id": "c44fdb7a-1678-4d33-aee3-ca519537f964",
   "metadata": {},
   "outputs": [
    {
     "name": "stdout",
     "output_type": "stream",
     "text": [
      "Pass\n",
      "Pass\n",
      "Pass\n"
     ]
    }
   ],
   "source": [
    "test_answer(cosine_similarity(sentence1, sentence2), sk_cosine_similarity([sentence1], [sentence2])[0][0], epsilon)\n",
    "test_answer(cosine_similarity(sentence1, sentence3), sk_cosine_similarity([sentence1], [sentence3])[0][0], epsilon)\n",
    "test_answer(cosine_similarity(sentence2, sentence3), sk_cosine_similarity([sentence2], [sentence3])[0][0], epsilon)"
   ]
  },
  {
   "cell_type": "markdown",
   "id": "950131a9-c1a6-46e4-b496-f0d12ad545d4",
   "metadata": {},
   "source": [
    "恭喜🎉 后面就用我们自己实现的余弦相似度了"
   ]
  },
  {
   "cell_type": "markdown",
   "id": "67dac14b-5d8b-4f85-abae-87b16156a28f",
   "metadata": {},
   "source": [
    "# 可视化"
   ]
  },
  {
   "cell_type": "code",
   "execution_count": 15,
   "id": "e2241a54-6bbf-475e-9676-781dd7787add",
   "metadata": {},
   "outputs": [
    {
     "name": "stdout",
     "output_type": "stream",
     "text": [
      "Cosine similarity between sentences 1 and 2: 0.8399703091419068\n",
      "Cosine similarity between sentences 1 and 3: 0.4265597337598573\n",
      "Cosine similarity between sentences 2 and 3: 0.42858240671154135\n"
     ]
    }
   ],
   "source": [
    "# 计算两个不同句子向量的余弦相似度\n",
    "print(\"Cosine similarity between sentences 1 and 2:\", cosine_similarity(sentence1, sentence2))  \n",
    "print(\"Cosine similarity between sentences 1 and 3:\", cosine_similarity(sentence1, sentence3))  \n",
    "print(\"Cosine similarity between sentences 2 and 3:\", cosine_similarity(sentence2, sentence3))\n"
   ]
  },
  {
   "cell_type": "code",
   "execution_count": 16,
   "id": "9a018c29-79ff-44bf-b524-e60d966b9de3",
   "metadata": {},
   "outputs": [
    {
     "name": "stdout",
     "output_type": "stream",
     "text": [
      "Cosine similarity between sentences 1 and 1: 1.0\n",
      "Cosine similarity between sentences 2 and 2: 0.9999999999999999\n",
      "Cosine similarity between sentences 3 and 3: 1.0000000000000002\n"
     ]
    }
   ],
   "source": [
    "# 每个句子向量和自己的余弦相似度\n",
    "print(\"Cosine similarity between sentences 1 and 1:\", cosine_similarity(sentence1, sentence1))\n",
    "print(\"Cosine similarity between sentences 2 and 2:\", cosine_similarity(sentence2, sentence2))\n",
    "print(\"Cosine similarity between sentences 3 and 3:\", cosine_similarity(sentence3, sentence3))"
   ]
  },
  {
   "cell_type": "code",
   "execution_count": 17,
   "id": "2e159fc6-c47d-43b9-9cac-978ef3cc2eb7",
   "metadata": {},
   "outputs": [
    {
     "data": {
      "text/plain": [
       "[Text(0.5, 0, 'I like to be in my house'),\n",
       " Text(1.5, 0, 'I enjoy staying home'),\n",
       " Text(2.5, 0, 'the isotope 238u decays to 206pb')]"
      ]
     },
     "execution_count": 17,
     "metadata": {},
     "output_type": "execute_result"
    },
    {
     "data": {
      "image/png": "[encoded data removed]",
      "text/plain": [
       "<Figure size 640x480 with 2 Axes>"
      ]
     },
     "metadata": {},
     "output_type": "display_data"
    }
   ],
   "source": [
    "# Get pairwise dot product similarities\n",
    "cosine_similarities = [[cosine_similarity(embeddings[i], embeddings[j]) for i in range(len(embeddings))] for j in range(len(embeddings))]\n",
    "\n",
    "# Plot in 3x3 grid\n",
    "ax = sns.heatmap(cosine_similarities, vmin=0, vmax=1,\n",
    "                 linewidths=1, linecolor='grey',\n",
    "                 xticklabels=texts,\n",
    "                 yticklabels=texts,\n",
    ")\n",
    "ax.set_xticklabels(labels=texts, rotation=45)"
   ]
  },
  {
   "cell_type": "code",
   "execution_count": null,
   "id": "471afe85-5a5f-422a-9658-5726c451270d",
   "metadata": {},
   "outputs": [],
   "source": []
  }
 ],
 "metadata": {
  "kernelspec": {
   "display_name": "llm101",
   "language": "python",
   "name": "python3"
  },
  "language_info": {
   "codemirror_mode": {
    "name": "ipython",
    "version": 3
   },
   "file_extension": ".py",
   "mimetype": "text/x-python",
   "name": "python",
   "nbconvert_exporter": "python",
   "pygments_lexer": "ipython3",
   "version": "3.11.11"
  }
 },
 "nbformat": 4,
 "nbformat_minor": 5
}
