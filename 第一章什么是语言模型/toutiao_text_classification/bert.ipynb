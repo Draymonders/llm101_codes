{
 "cells": [
  {
   "cell_type": "markdown",
   "metadata": {},
   "source": [
    "bert使用"
   ]
  },
  {
   "cell_type": "code",
   "execution_count": 8,
   "metadata": {},
   "outputs": [],
   "source": [
    "from transformers import BertModel, BertTokenizer, AdamW\n",
    "\n",
    "model_name = \"bert-base-chinese\"\n",
    "model = BertModel.from_pretrained(model_name)"
   ]
  },
  {
   "cell_type": "code",
   "execution_count": 44,
   "metadata": {},
   "outputs": [],
   "source": [
    "def embedding(text):\n",
    "    encoding = BertTokenizer.from_pretrained(model_name)(\n",
    "        text,\n",
    "        add_special_tokens=True,\n",
    "        max_length=64,\n",
    "        padding='max_length',\n",
    "        truncation=True,\n",
    "        return_tensors='pt'\n",
    "    )\n",
    "    # print(type(encoding))\n",
    "    # print(dir(encoding)) \n",
    "    input_ids = encoding['input_ids']\n",
    "    mask = encoding['attention_mask']\n",
    "\n",
    "    output = model(input_ids=input_ids, attention_mask=mask)\n",
    "    embedding = output[1]\n",
    "    return {\n",
    "        \"text\": text,\n",
    "        \"input_ids\": input_ids,\n",
    "        \"mask\": mask,\n",
    "        \"embedding\": embedding\n",
    "    }"
   ]
  },
  {
   "cell_type": "code",
   "execution_count": 41,
   "metadata": {},
   "outputs": [],
   "source": [
    "def cosine_similarity_numpy(emb1, emb2):\n",
    "    import numpy as np\n",
    "    import torch\n",
    "    if type(emb1) == torch.Tensor:\n",
    "        emb1 = emb1.detach().numpy()\n",
    "    if type(emb2) == torch.Tensor:\n",
    "        emb2 = emb2.detach().numpy()\n",
    "    emb1 = emb1[0]\n",
    "    emb2 = emb2[0]\n",
    "    emb1, emb2 = np.array(emb1), np.array(emb2)\n",
    "    return np.dot(emb1, emb2) / (np.linalg.norm(emb1) * np.linalg.norm(emb2))"
   ]
  },
  {
   "cell_type": "code",
   "execution_count": 52,
   "metadata": {},
   "outputs": [
    {
     "name": "stdout",
     "output_type": "stream",
     "text": [
      "0.8426415\n"
     ]
    }
   ],
   "source": [
    "text1 = \"支付宝里的借呗算不算高利贷\"\n",
    "text2 = \"网约车混战再起，马云强势杀入\"\n",
    "res1 = embedding(text1)\n",
    "res2 = embedding(text2)\n",
    "distance = cosine_similarity_numpy(res1['embedding'], res2['embedding'])\n",
    "print(distance)"
   ]
  }
 ],
 "metadata": {
  "kernelspec": {
   "display_name": "llm101",
   "language": "python",
   "name": "python3"
  },
  "language_info": {
   "codemirror_mode": {
    "name": "ipython",
    "version": 3
   },
   "file_extension": ".py",
   "mimetype": "text/x-python",
   "name": "python",
   "nbconvert_exporter": "python",
   "pygments_lexer": "ipython3",
   "version": "3.11.11"
  }
 },
 "nbformat": 4,
 "nbformat_minor": 2
}
